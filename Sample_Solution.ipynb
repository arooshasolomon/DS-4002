{
  "nbformat": 4,
  "nbformat_minor": 0,
  "metadata": {
    "colab": {
      "provenance": [],
      "include_colab_link": true
    },
    "kernelspec": {
      "name": "python3",
      "display_name": "Python 3"
    },
    "language_info": {
      "name": "python"
    }
  },
  "cells": [
    {
      "cell_type": "markdown",
      "metadata": {
        "id": "view-in-github",
        "colab_type": "text"
      },
      "source": [
        "<a href=\"https://colab.research.google.com/github/arooshasolomon/DS-4002/blob/main/Sample_Solution.ipynb\" target=\"_parent\"><img src=\"https://colab.research.google.com/assets/colab-badge.svg\" alt=\"Open In Colab\"/></a>"
      ]
    },
    {
      "cell_type": "code",
      "execution_count": null,
      "metadata": {
        "id": "lyIxIuifoJTb"
      },
      "outputs": [],
      "source": [
        "# Queqstion 2 (Use comment to write explanations)"
      ]
    },
    {
      "cell_type": "code",
      "source": [
        "from sympy import *"
      ],
      "metadata": {
        "id": "8O7nh6dCoS37"
      },
      "execution_count": 2,
      "outputs": []
    },
    {
      "cell_type": "code",
      "source": [
        "Q1 = Matrix([[1,-2,0],[0,1,4],[4,-4,16],[3,-3,12]])"
      ],
      "metadata": {
        "id": "gLk1WGo-oa5Z"
      },
      "execution_count": 3,
      "outputs": []
    },
    {
      "cell_type": "code",
      "source": [
        "Q1.rref()\n",
        "\n",
        "\n",
        "##it is evident that b is a linear combination of a1,a2 and a3 because fo the pivot in the first column first entry and the second entry in the second column"
      ],
      "metadata": {
        "colab": {
          "base_uri": "https://localhost:8080/"
        },
        "id": "FDEIFH_GojfH",
        "outputId": "e78b77a1-4c9e-41fc-85eb-4814e0348ffd"
      },
      "execution_count": 4,
      "outputs": [
        {
          "output_type": "execute_result",
          "data": {
            "text/plain": [
              "(Matrix([\n",
              " [1, 0, 8],\n",
              " [0, 1, 4],\n",
              " [0, 0, 0],\n",
              " [0, 0, 0]]),\n",
              " (0, 1))"
            ]
          },
          "metadata": {},
          "execution_count": 4
        }
      ]
    },
    {
      "cell_type": "code",
      "source": [
        "h = symbols('h')\n",
        "Q3=  Matrix([[1,4,-1],[-7,-24,3],[4,8,h],[3,-3,12]])\n",
        "\n",
        "\n",
        "\n",
        "Q3.rref()\n",
        "\n",
        "\n",
        "submatrix = Q3[:3, :3]\n",
        "\n",
        "# Calculate the determinant of the submatrix\n",
        "det_h = submatrix.det()\n",
        "# Solve for h where the determinant is zero\n",
        "h_solution = solve(det_h, h)\n",
        "\n",
        "\n",
        "h_solution"
      ],
      "metadata": {
        "id": "dvtxEONdolti",
        "outputId": "ac68ee6b-eec1-4f63-ec17-96294003d7fa",
        "colab": {
          "base_uri": "https://localhost:8080/"
        }
      },
      "execution_count": 12,
      "outputs": [
        {
          "output_type": "execute_result",
          "data": {
            "text/plain": [
              "[4]"
            ]
          },
          "metadata": {},
          "execution_count": 12
        }
      ]
    },
    {
      "cell_type": "code",
      "source": [],
      "metadata": {
        "id": "OLkcIQX4XYOJ"
      },
      "execution_count": null,
      "outputs": []
    }
  ]
}