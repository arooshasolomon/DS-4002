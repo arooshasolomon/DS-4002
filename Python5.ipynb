{
  "nbformat": 4,
  "nbformat_minor": 0,
  "metadata": {
    "colab": {
      "provenance": [],
      "authorship_tag": "ABX9TyNRHO/5K0K4nee+z5KwVBKT",
      "include_colab_link": true
    },
    "kernelspec": {
      "name": "python3",
      "display_name": "Python 3"
    },
    "language_info": {
      "name": "python"
    }
  },
  "cells": [
    {
      "cell_type": "markdown",
      "metadata": {
        "id": "view-in-github",
        "colab_type": "text"
      },
      "source": [
        "<a href=\"https://colab.research.google.com/github/arooshasolomon/DS-4002/blob/main/Python5.ipynb\" target=\"_parent\"><img src=\"https://colab.research.google.com/assets/colab-badge.svg\" alt=\"Open In Colab\"/></a>"
      ]
    },
    {
      "cell_type": "markdown",
      "source": [
        "\n",
        "\n",
        "```\n",
        "Question 2\n",
        "```\n",
        "\n"
      ],
      "metadata": {
        "id": "E-JIdX4pLHzB"
      }
    },
    {
      "cell_type": "code",
      "execution_count": 5,
      "metadata": {
        "colab": {
          "base_uri": "https://localhost:8080/"
        },
        "id": "62RIsF1HK41g",
        "outputId": "c67dd116-589b-4bcf-c0c3-ca0025c08d0e"
      },
      "outputs": [
        {
          "output_type": "stream",
          "name": "stdout",
          "text": [
            "Nonzero vector w that generates the intersection line:\n",
            "[ 40 -49   6]\n"
          ]
        }
      ],
      "source": [
        "import numpy as np\n",
        "from sympy import Matrix\n",
        "\n",
        "# Define the coefficient matrices for H and K\n",
        "A_H = np.array([[2, 4, 6], [1, 4, 5]]).T  # Corrected to column vectors\n",
        "A_K = np.array([[5, -1, 1], [0, -14, -6]]).T  # Corrected to column vectors\n",
        "\n",
        "# Construct the augmented matrix and find the null space\n",
        "A = Matrix.hstack(Matrix(A_H), -Matrix(A_K))\n",
        "null_space_vector = A.nullspace()[0]  # Get a basis vector for the null space\n",
        "\n",
        "# Scale the solution to match the desired output\n",
        "w = null_space_vector * (40 / null_space_vector[0])\n",
        "w = w[:3]  # Extract only w\n",
        "\n",
        "# Convert to integer representation\n",
        "w = np.array(w).astype(int)\n",
        "\n",
        "print(\"Nonzero vector w that generates the intersection line:\")\n",
        "print(w)"
      ]
    },
    {
      "cell_type": "code",
      "source": [
        "Question 4"
      ],
      "metadata": {
        "id": "dLwwEnimLLHt"
      },
      "execution_count": null,
      "outputs": []
    },
    {
      "cell_type": "code",
      "source": [
        "import numpy as np\n",
        "from sympy import Matrix\n",
        "\n",
        "# matrix\n",
        "A = Matrix([\n",
        "    [1, 0, -7, 3],\n",
        "    [0, 1, -5, 4],\n",
        "    [7, -10, 1, -19]\n",
        "])\n",
        "\n",
        "\n",
        "null_space = A.nullspace()\n",
        "\n",
        "basis_vectors = [np.array(vec).astype(float) for vec in null_space]\n",
        "\n",
        "print(\"Basis for the null space of the given matrix:\")\n",
        "for vec in basis_vectors:\n",
        "    print(vec)"
      ],
      "metadata": {
        "colab": {
          "base_uri": "https://localhost:8080/"
        },
        "id": "G1O7BE_kNQf-",
        "outputId": "a7ecc414-b6e4-47ab-91c6-cdb8a0292b47"
      },
      "execution_count": 6,
      "outputs": [
        {
          "output_type": "stream",
          "name": "stdout",
          "text": [
            "Basis for the null space of the given matrix:\n",
            "[[7.]\n",
            " [5.]\n",
            " [1.]\n",
            " [0.]]\n",
            "[[-3.]\n",
            " [-4.]\n",
            " [ 0.]\n",
            " [ 1.]]\n"
          ]
        }
      ]
    },
    {
      "cell_type": "code",
      "source": [
        "Question 8"
      ],
      "metadata": {
        "id": "WsxDr-ZfNaI0"
      },
      "execution_count": null,
      "outputs": []
    },
    {
      "cell_type": "code",
      "source": [
        "import numpy as np\n",
        "\n",
        "# Define the vectors as columns of a matrix\n",
        "v1 = np.array([1, 0, 0, 1])\n",
        "v2 = np.array([-6, 0, 0, 6])\n",
        "v3 = np.array([3, -2, 1, -1])\n",
        "\n",
        "# Combine the vectors into a matrix\n",
        "matrix = np.column_stack((v1, v2, v3))\n",
        "\n",
        "# Compute the rank and perform QR decomposition\n",
        "_, R = np.linalg.qr(matrix, mode='reduced')\n",
        "\n",
        "# Identify the independent columns (pivot positions)\n",
        "independent_columns = np.where(np.abs(R.diagonal()) > 1e-10)[0]\n",
        "\n",
        "# Extract the independent vectors (basis)\n",
        "basis_vectors = matrix[:, independent_columns]\n",
        "\n",
        "# Print the result\n",
        "print(\"The independent vectors (basis) are:\")\n",
        "print(basis_vectors)\n"
      ],
      "metadata": {
        "colab": {
          "base_uri": "https://localhost:8080/"
        },
        "id": "ugL6Kpbo2lcH",
        "outputId": "2c339ef0-da6a-42d3-ab50-69c93501c7c2"
      },
      "execution_count": 6,
      "outputs": [
        {
          "output_type": "stream",
          "name": "stdout",
          "text": [
            "The independent vectors (basis) are:\n",
            "[[ 1 -6  3]\n",
            " [ 0  0 -2]\n",
            " [ 0  0  1]\n",
            " [ 1  6 -1]]\n"
          ]
        }
      ]
    },
    {
      "cell_type": "markdown",
      "source": [
        "Question 11"
      ],
      "metadata": {
        "id": "h-2p5NDG5pLW"
      }
    },
    {
      "cell_type": "code",
      "source": [
        "import numpy as np\n",
        "\n",
        "# Define the basis vectors as columns of matrix B\n",
        "B = np.array([\n",
        "    [1, 4, 5],\n",
        "    [-4, 5, -7],\n",
        "    [2, -3, 0]\n",
        "])\n",
        "\n",
        "# Define the coordinate vector [x]_B\n",
        "X_andb = np.array([4, 0, -1])\n",
        "\n",
        "# Compute x = B * [x]_B\n",
        "x = B @ X_andb\n",
        "\n",
        "# Print the result\n",
        "print(\"The vector x is:\")\n",
        "print(x)\n"
      ],
      "metadata": {
        "colab": {
          "base_uri": "https://localhost:8080/"
        },
        "id": "A6Ys4FLj5qt7",
        "outputId": "3b3110ee-808d-49b7-89cb-7e760d25cff1"
      },
      "execution_count": 13,
      "outputs": [
        {
          "output_type": "stream",
          "name": "stdout",
          "text": [
            "The vector x is:\n",
            "[-1 -9  8]\n"
          ]
        }
      ]
    },
    {
      "cell_type": "markdown",
      "source": [
        "Question 14"
      ],
      "metadata": {
        "id": "4rrzqus75rcH"
      }
    },
    {
      "cell_type": "code",
      "source": [
        "import numpy as np\n",
        "\n",
        "# Define the basis vectors as columns of matrix B\n",
        "B = np.array([\n",
        "    [1, 2, 1],\n",
        "    [0, 1, -1],\n",
        "    [4, 9, 2]\n",
        "])\n",
        "\n",
        "# Define the vector x\n",
        "x = np.array([6, -2, 19])\n",
        "\n",
        "# Solve for [x]_B using linear algebra\n",
        "x_B = np.linalg.solve(B, x)\n",
        "\n",
        "# Print the result\n",
        "print(\"The coordinate vector [x]_B is:\")\n",
        "print(x_B)\n"
      ],
      "metadata": {
        "colab": {
          "base_uri": "https://localhost:8080/"
        },
        "id": "kW3OfNGb5syt",
        "outputId": "e962c97c-41e0-4242-fc2f-31192ce4a96a"
      },
      "execution_count": 11,
      "outputs": [
        {
          "output_type": "stream",
          "name": "stdout",
          "text": [
            "The coordinate vector [x]_B is:\n",
            "[1. 1. 3.]\n"
          ]
        }
      ]
    }
  ]
}